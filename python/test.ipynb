{
 "cells": [
  {
   "cell_type": "code",
   "execution_count": 2,
   "metadata": {},
   "outputs": [
    {
     "data": {
      "text/plain": [
       "'Hernia'"
      ]
     },
     "execution_count": 2,
     "metadata": {},
     "output_type": "execute_result"
    }
   ],
   "source": [
    "# Testing Paru\n",
    "\n",
    "import cv2\n",
    "import numpy as np\n",
    "import requests\n",
    "\n",
    "def prepare_image(image_path):\n",
    "    img = cv2.imread(image_path)\n",
    "    img = cv2.cvtColor(img, cv2.COLOR_BGR2RGB)\n",
    "    img = cv2.resize(img, (224,224))\n",
    "    img = img.astype(np.float32) / 255.0\n",
    "    img = np.expand_dims(img, axis=0)\n",
    "    return img.tolist()\n",
    "\n",
    "image_path = './img_test.png'\n",
    "image = prepare_image(image_path)\n",
    "\n",
    "data = {\"instances\": image}  # Konversi ke daftar Python agar dapat di-serialize menjadi JSON\n",
    "\n",
    "url = 'https://medical-math-models.onrender.com/v1/models/model_paru:predict'\n",
    "\n",
    "response = requests.post(url, json=data)\n",
    "\n",
    "predict = response.json()\n",
    "class_labels = np.array(['Atelectasis', 'Cardiomegaly', 'Consolidation', 'Edema',\n",
    "       'Effusion', 'Emphysema', 'Fibrosis', 'Hernia', 'Infiltration',\n",
    "       'Mass', 'Nodule', 'Normal', 'Pleural_Thickening', 'Pneumonia',\n",
    "       'Pneumothorax'])\n",
    "predicted_label = class_labels[np.argmax(predict['predictions'])]\n",
    "\n",
    "predicted_label"
   ]
  }
 ],
 "metadata": {
  "kernelspec": {
   "display_name": "myenv",
   "language": "python",
   "name": "python3"
  },
  "language_info": {
   "codemirror_mode": {
    "name": "ipython",
    "version": 3
   },
   "file_extension": ".py",
   "mimetype": "text/x-python",
   "name": "python",
   "nbconvert_exporter": "python",
   "pygments_lexer": "ipython3",
   "version": "3.9.15"
  }
 },
 "nbformat": 4,
 "nbformat_minor": 2
}
